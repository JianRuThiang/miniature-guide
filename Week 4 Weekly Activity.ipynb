{
 "cells": [
  {
   "cell_type": "markdown",
   "id": "50db7f9d",
   "metadata": {},
   "source": [
    "## Week4 Weekly Activity "
   ]
  },
  {
   "cell_type": "markdown",
   "id": "a4358b90",
   "metadata": {},
   "source": [
    "## Setup"
   ]
  },
  {
   "cell_type": "code",
   "execution_count": 1,
   "id": "ceefef36",
   "metadata": {},
   "outputs": [
    {
     "data": {
      "text/plain": [
       "True"
      ]
     },
     "execution_count": 1,
     "metadata": {},
     "output_type": "execute_result"
    }
   ],
   "source": [
    "import sys\n",
    "# Python 3.7 is required\n",
    "assert sys.version_info >= (3,7)\n",
    "\n",
    "import cv2 as cv\n",
    "import numpy as np\n",
    "\n",
    "# For reproducibility,\n",
    "np.random.seed(99)\n",
    "\n",
    "# Make sure that optimization is enabled\n",
    "if not cv.useOptimized():\n",
    "    cv.setUseOptimized(True)\n",
    "\n",
    "cv.useOptimized()"
   ]
  },
  {
   "cell_type": "markdown",
   "id": "e1457276",
   "metadata": {},
   "source": [
    "### Question 1"
   ]
  },
  {
   "cell_type": "code",
   "execution_count": 2,
   "id": "2757043b",
   "metadata": {},
   "outputs": [],
   "source": [
    "\"\"\" \n",
    "First way to display two images\n",
    "use cv.imshow twice to show two images\n",
    "\"\"\"\n",
    "img = cv.imread('scenery.jpg')    \n",
    "img_grayscale = cv.imread('scenery.jpg', 0) \n",
    "\n",
    "cv.imshow('original scenery',img)\n",
    "cv.imshow('gray scenery', img_grayscale)\n",
    "cv.waitKey(0)\n",
    "cv.destroyAllWindows()"
   ]
  },
  {
   "cell_type": "code",
   "execution_count": 3,
   "id": "82edccc8",
   "metadata": {},
   "outputs": [],
   "source": [
    "# import os to use os.path\n",
    "import os"
   ]
  },
  {
   "cell_type": "code",
   "execution_count": 4,
   "id": "bec8d92e",
   "metadata": {},
   "outputs": [
    {
     "data": {
      "text/plain": [
       "True"
      ]
     },
     "execution_count": 4,
     "metadata": {},
     "output_type": "execute_result"
    }
   ],
   "source": [
    "cv.imwrite(\"scenery_grayscale.jpg\",img_grayscale)"
   ]
  },
  {
   "cell_type": "code",
   "execution_count": 5,
   "id": "c165d65d",
   "metadata": {
    "scrolled": true
   },
   "outputs": [],
   "source": [
    "\"\"\"\n",
    "Second way to display two images\n",
    "firstly create a grayscale image by using cv.imwrite\n",
    "then find the file end with jpg and show it by for loop\n",
    "\"\"\"\n",
    "for file in os.listdir('C:/Users/JianRu Thiang/Desktop/UTAR CS Y3S1/Mini Project Image Processing/Image Processing python'):\n",
    "    if file.endswith(\".jpg\"):\n",
    "        if file == \"scenery.jpg\" or file == \"scenery_grayscale.jpg\":\n",
    "            img = cv.imread(file)\n",
    "            cv.imshow(\"Image\",img)\n",
    "            cv.waitKey(0)\n",
    "            cv.destroyAllWindows()"
   ]
  },
  {
   "cell_type": "markdown",
   "id": "2620fcc5",
   "metadata": {},
   "source": [
    "### Question 2\n",
    "* Display the video into smaller frames \n",
    "* Save with smaller frame size with the name 'smaller_img_pexels.avi'"
   ]
  },
  {
   "cell_type": "code",
   "execution_count": 6,
   "id": "ec5563af",
   "metadata": {},
   "outputs": [],
   "source": [
    "# Create a VideoCapture object\n",
    "cap = cv.VideoCapture('img_pexels.mp4')\n",
    "\n",
    "# Check if the object has been created successfully\n",
    "if not cap.isOpened():\n",
    "    print(\"Unable to create video\")\n",
    "\n",
    "#save smaller frame video\n",
    "save_video = cv.VideoWriter('smaller_img_pexels.avi', cv.VideoWriter_fourcc(*'XVID'),30.0, (720,480))\n",
    "\n",
    "\n",
    "# Read until the video is completed.\n",
    "while cap.isOpened():\n",
    "    ret, frame = cap.read()\n",
    "    \n",
    "    # resize the video to 720 x 480 size\n",
    "    frame = cv.resize(frame, (720,480))\n",
    "    # if frame is read then ret is True\n",
    "    if not ret:\n",
    "        print(\"Can't receive frame.\")\n",
    "        break\n",
    "    \n",
    "    # output the video with smaller size 720 x 480 and low fps-> 30\n",
    "    save_video.write(frame)\n",
    "    cv.imshow('frame',frame)\n",
    "    \n",
    "    # Press Esc key to exit (27 is ASCII code for Esc)\n",
    "    if cv.waitKey(1) & 0xFF == 27:\n",
    "        break\n",
    "\n",
    "# destroy the constructor\n",
    "cap.release()\n",
    "cv.destroyAllWindows()"
   ]
  },
  {
   "cell_type": "markdown",
   "id": "4df31bf5",
   "metadata": {},
   "source": [
    "### Question 3"
   ]
  },
  {
   "cell_type": "markdown",
   "id": "01cd03f7",
   "metadata": {},
   "source": [
    "#### Random noise color image"
   ]
  },
  {
   "cell_type": "code",
   "execution_count": 8,
   "id": "386525a9",
   "metadata": {},
   "outputs": [],
   "source": [
    "# read the image\n",
    "img = cv.imread('scenery.jpg')\n",
    "\n",
    "\n",
    "# create noise to image\n",
    "color_gauss = np.random.normal(0,1,img.size)\n",
    "# uint8 0 to 255 \n",
    "color_gauss = color_gauss.reshape(img.shape[0],img.shape[1],img.shape[2]).astype('uint8')\n",
    "\n",
    "#add noise to imgae\n",
    "color_noise = cv.add(img,color_gauss)\n",
    "cv.imshow(\"Color Noise\", color_noise)\n",
    "cv.waitKey(0)\n",
    "cv.destroyAllWindows()"
   ]
  },
  {
   "cell_type": "markdown",
   "id": "d108bad0",
   "metadata": {},
   "source": [
    "#### Random noise grayscale image"
   ]
  },
  {
   "cell_type": "code",
   "execution_count": 9,
   "id": "a9e3e054",
   "metadata": {},
   "outputs": [],
   "source": [
    "# read the image\n",
    "img = cv.imread('scenery.jpg', cv.IMREAD_GRAYSCALE)\n",
    "\n",
    "\n",
    "# create noise to image\n",
    "gauss = np.zeros((img.shape[0], img.shape[1])).astype('uint8')\n",
    "cv.randu(gauss, 0, 51)\n",
    "\n",
    "#add noise to imgae\n",
    "grayscale_noise = cv.add(img,gauss)\n",
    "cv.imshow(\"Color Noise\", grayscale_noise)\n",
    "cv.waitKey(0)\n",
    "cv.destroyAllWindows()"
   ]
  }
 ],
 "metadata": {
  "kernelspec": {
   "display_name": "Python 3 (ipykernel)",
   "language": "python",
   "name": "python3"
  },
  "language_info": {
   "codemirror_mode": {
    "name": "ipython",
    "version": 3
   },
   "file_extension": ".py",
   "mimetype": "text/x-python",
   "name": "python",
   "nbconvert_exporter": "python",
   "pygments_lexer": "ipython3",
   "version": "3.9.12"
  }
 },
 "nbformat": 4,
 "nbformat_minor": 5
}
