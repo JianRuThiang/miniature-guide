{
 "cells": [
  {
   "cell_type": "markdown",
   "id": "a04f6bf4",
   "metadata": {},
   "source": [
    "### Setup "
   ]
  },
  {
   "cell_type": "code",
   "execution_count": 1,
   "id": "8dfc92bd",
   "metadata": {},
   "outputs": [
    {
     "data": {
      "text/plain": [
       "True"
      ]
     },
     "execution_count": 1,
     "metadata": {},
     "output_type": "execute_result"
    }
   ],
   "source": [
    "import sys\n",
    "# Python 3.7 is required\n",
    "assert sys.version_info >= (3,7)\n",
    "\n",
    "import cv2 as cv\n",
    "import numpy as np\n",
    "\n",
    "# For reproducibility,\n",
    "np.random.seed(99)\n",
    "\n",
    "# Make sure that optimization is enabled\n",
    "if not cv.useOptimized():\n",
    "    cv.setUseOptimized(True)\n",
    "\n",
    "cv.useOptimized()"
   ]
  },
  {
   "cell_type": "markdown",
   "id": "3d8e52d8",
   "metadata": {},
   "source": [
    "### Question 1 "
   ]
  },
  {
   "cell_type": "code",
   "execution_count": 2,
   "id": "a05c078a",
   "metadata": {},
   "outputs": [],
   "source": [
    "def crop_grid(img, num_horizontal_grid, num_vertical_grid, line_color):\n",
    "    ori_img = cv.imread(img)\n",
    "    img_copy = ori_img.copy()\n",
    "    \n",
    "    height, width = ori_img.shape[:2]\n",
    "    M, N = int(height/num_horizontal_grid), int(width/num_vertical_grid)\n",
    "    \n",
    "    x1, y1 = 0, 0\n",
    "\n",
    "    for y in range(0, height, M):\n",
    "        for x in range(0, width, N):\n",
    "            y1 = y + M    # lower right coordinate that will be used to construct rectangle\n",
    "            x1 = x + N\n",
    "            # Check whether patch lower right coordinate exceeds image height and width\n",
    "            if x1 >= width and y1 >= height:\n",
    "                x1 = width - 1\n",
    "                y1 = height - 1\n",
    "                tile = ori_img[y:height, x:width]\n",
    "                cv.rectangle(img_copy, (x, y), (x1, y1), line_color, 1)\n",
    "            # When patch lower right y-coordinate exceeds patch height\n",
    "            elif y1 >= height:\n",
    "                y1 = height - 1\n",
    "                cv.rectangle(img_copy, (x, y), (x1, y1), line_color, 1)\n",
    "\n",
    "            # When patch lower right x-coordinate exceeds patch width\n",
    "            elif x1 >= width:\n",
    "                x1 = width - 1\n",
    "                cv.rectangle(img_copy, (x, y), (x1, y1), line_color, 1)\n",
    "\n",
    "            else:\n",
    "                cv.rectangle(img_copy, (x, y), (x1, y1), line_color, 1)\n",
    "    return cv.imshow('patched image', img_copy)"
   ]
  },
  {
   "cell_type": "code",
   "execution_count": 3,
   "id": "a9f5f53b",
   "metadata": {},
   "outputs": [],
   "source": [
    "crop_grid('dog.jfif', 5, 10, (0,0,255))\n",
    "cv.waitKey(0)\n",
    "cv.destroyAllWindows()"
   ]
  },
  {
   "cell_type": "markdown",
   "id": "fa3f9272",
   "metadata": {},
   "source": [
    "### Question 2 "
   ]
  },
  {
   "cell_type": "code",
   "execution_count": 8,
   "id": "f3121da8",
   "metadata": {},
   "outputs": [],
   "source": [
    "img1 = cv.imread('lena.jfif')\n",
    "img2 = cv.imread('coins.jfif')\n",
    "\n",
    "# Resize img2\n",
    "new_shape = img1.shape[:2]\n",
    "img2 = cv.resize(img2, new_shape)\n",
    "\n",
    "# show 3 images with different random value of alpha \n",
    "for i in np.arange(0,3): \n",
    "    alpha = np.array((round(np.random.uniform(0,1),2))) # generate three random alpha values\n",
    "    dst = cv.addWeighted(img1, float(alpha), img2, 1 - alpha, 0) # Beta value always 1 - alpha\n",
    "    cv.putText(dst, \"a={}\".format(alpha),(24,22), 0, 0.5, 0,1, cv.LINE_AA) # Show the alpha value\n",
    "    cv.imshow('Image Blendingz', dst)\n",
    "    cv.waitKey(0)\n",
    "    cv.destroyAllWindows()"
   ]
  },
  {
   "cell_type": "markdown",
   "id": "8ee83b0b",
   "metadata": {},
   "source": [
    "### Question 3"
   ]
  },
  {
   "cell_type": "markdown",
   "id": "7814be34",
   "metadata": {},
   "source": [
    "$$\\begin{bmatrix} \\alpha & \\beta & (1 - \\alpha)\\cdot c_{x} - \\beta \\cdot c_{y}\\\\ -\\beta & \\alpha &  \\beta \\cdot c_{x} + (1 - \\alpha)\\cdot c_{y} \\end{bmatrix}$$"
   ]
  },
  {
   "cell_type": "code",
   "execution_count": 102,
   "id": "385f8346",
   "metadata": {},
   "outputs": [],
   "source": [
    "img = cv.imread('lena.jfif')\n",
    "\n",
    "rows, cols = img.shape[:2]\n",
    "center = ((cols-1)/2.0,(rows-1)/2.0)\n",
    "angle = 45\n",
    "M = cv.getRotationMatrix2D(((cols-1)/2.0, (rows-1)/2.0), angle, 1)\n",
    "\n",
    "# the location of alpha and beta value in M is row 0 with col 0 and 1\n",
    "cosValue = np.abs(M[0][0])\n",
    "sinValue = np.abs(M[0][1])\n",
    "\n",
    "# calculate the new height and width bouds after the iamge rotate\n",
    "newRotateHeight = int((cols * sinValue) + (rows * cosValue))\n",
    "newRotateWidth = int((cols * cosValue) + (rows * sinValue))\n",
    "\n",
    "# subtract the old image center and adding the new image center\n",
    "M[0][2] += (newRotateWidth/2) - center[1]\n",
    "M[1][2] += (newRotateHeight/2) - center[0]\n",
    "\n",
    "dst = cv.warpAffine(img, M, (newRotateHeight,newRotateWidth))\n",
    "cv.imshow('Image Blendingz', dst)\n",
    "cv.waitKey(0)\n",
    "cv.destroyAllWindows()"
   ]
  },
  {
   "cell_type": "markdown",
   "id": "6ce395b1",
   "metadata": {},
   "source": [
    "### Question 4"
   ]
  },
  {
   "cell_type": "code",
   "execution_count": 96,
   "id": "5e3fdfc9",
   "metadata": {},
   "outputs": [],
   "source": [
    "# Load two images\n",
    "img1 = cv.imread('flower.jfif')\n",
    "img2 = cv.imread('native-bee.png')\n",
    "\n",
    "# Create ROI from the flower \n",
    "rows, cols =  img1.shape[:2]\n",
    "ROI = img2[0:rows, 0:cols]\n",
    "\n",
    "# Create a mask of the flower and its inverse mask\n",
    "flowerGray = cv.cvtColor(img1, cv.COLOR_BGR2GRAY)\n",
    "ret, mask = cv.threshold(flowerGray,70 ,255, cv.THRESH_BINARY)\n",
    "maskInv = cv.bitwise_not(mask)\n",
    "\n",
    "# Black out the are of the flower in ROI\n",
    "img2_bg = cv.bitwise_and(ROI,ROI,mask = maskInv)\n",
    "\n",
    "#Take the region of the flower\n",
    "img1_fg = cv.bitwise_and(img1,img1,mask = mask)\n",
    "\n",
    "# Put flower in ROI\n",
    "dst = cv.add(img1_fg,img2_bg)\n",
    "img2[0:rows, 0:cols] = dst\n",
    "\n",
    "\n",
    "cv.imshow('flower_bee',img2)\n",
    "cv.waitKey(0)\n",
    "cv.destroyAllWindows()"
   ]
  }
 ],
 "metadata": {
  "kernelspec": {
   "display_name": "Python 3 (ipykernel)",
   "language": "python",
   "name": "python3"
  },
  "language_info": {
   "codemirror_mode": {
    "name": "ipython",
    "version": 3
   },
   "file_extension": ".py",
   "mimetype": "text/x-python",
   "name": "python",
   "nbconvert_exporter": "python",
   "pygments_lexer": "ipython3",
   "version": "3.9.12"
  }
 },
 "nbformat": 4,
 "nbformat_minor": 5
}
